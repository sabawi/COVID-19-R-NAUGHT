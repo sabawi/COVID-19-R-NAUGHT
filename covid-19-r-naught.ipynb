{
 "cells": [
  {
   "cell_type": "code",
   "execution_count": 1,
   "metadata": {},
   "outputs": [],
   "source": [
    "#/usr/bin/python3.8\n",
    "# Use jupyter notebook with python 3+ \n",
    "\"\"\"\n",
    "Auth : Al Sabawi\n",
    "Date: Mar 14, 2020\n",
    "\"\"\"\n",
    "# Need the following libraries \n",
    "import pandas as pd\n",
    "import numpy as np\n",
    "import matplotlib.pyplot as plt"
   ]
  },
  {
   "cell_type": "markdown",
   "metadata": {},
   "source": [
    "## Data Source"
   ]
  },
  {
   "cell_type": "markdown",
   "metadata": {},
   "source": [
    "#### Johns Hupkins Whiting School of Engineering COVID-19 Data Repository at https://github.com/CSSEGISandData"
   ]
  },
  {
   "cell_type": "markdown",
   "metadata": {},
   "source": [
    "## Download the data to your computer daily"
   ]
  },
  {
   "cell_type": "code",
   "execution_count": 2,
   "metadata": {},
   "outputs": [],
   "source": [
    "## Download the latest data file from:\n",
    "## https://github.com/CSSEGISandData/COVID-19/tree/master/csse_covid_19_data/csse_covid_19_time_series\n",
    "## File name \"time_series_19-covid-Confirmed.csv\"  for all confirmed cases in the world by region\n",
    "## *** DOWNLOAD to local directory ***\n",
    "filename = './time_series_19-covid-Confirmed.csv'\n",
    "df_confirmed = pd.read_csv(filename)\n",
    "\n",
    "## Separate the dates to use as an index later\n",
    "dates = df_confirmed.columns[4:]\n",
    "## Filter for the USA data only \n",
    "usa = df_confirmed[df_confirmed['Country/Region'].values == 'US'].copy(deep=True)\n",
    "\n",
    "usad = usa[dates].copy(deep=True)\n",
    "last_date = usa[dates].columns[-1]\n",
    "\n",
    "## Put the US data into a DataFrame Series and give it a name\n",
    "us_df_cumulative = pd.DataFrame(usa[dates].sum(), columns=['Actual USA COVID-19 Cases'])\n",
    "\n",
    "# Check: These 2 following prints should give the same number on same Last Dates data is collected\n",
    "#print(last_date, usad[last_date].sum())\n",
    "#print(us_df_cumulative[-1:])"
   ]
  },
  {
   "cell_type": "markdown",
   "metadata": {},
   "source": [
    "## Plot the confirmed COVID-19 Cases"
   ]
  },
  {
   "cell_type": "code",
   "execution_count": 4,
   "metadata": {},
   "outputs": [
    {
     "data": {
      "image/png": "[encoded data removed]",
      "text/plain": [
       "<Figure size 864x576 with 1 Axes>"
      ]
     },
     "metadata": {
      "needs_background": "light"
     },
     "output_type": "display_data"
    }
   ],
   "source": [
    "## Plot the raw data (not logarithmic)\n",
    "fig, ax = plt.subplots(figsize=(12,8))\n",
    "#us_df = pd.DataFrame(usa[dates].sum(), columns=['Actual USA COVID-19 Cases'])\n",
    "\n",
    "us_df_cumulative.plot(ax=ax,c='r', lw=4,title='Current cases as of '+str(us_df_cumulative.index[-1])+' in Normal Plot')\n",
    "ax.grid(True,which=\"both\")"
   ]
  },
  {
   "cell_type": "markdown",
   "metadata": {},
   "source": [
    "## Calculate R-naught "
   ]
  },
  {
   "cell_type": "markdown",
   "metadata": {},
   "source": [
    "### Form more info on R-naught, check https://en.wikipedia.org/wiki/Basic_reproduction_number"
   ]
  },
  {
   "cell_type": "code",
   "execution_count": 5,
   "metadata": {},
   "outputs": [
    {
     "name": "stdout",
     "output_type": "stream",
     "text": [
      "Total cases as of 3/14/20(End of day) is 2727 cases\n",
      "Average case count change from one day to next =  52.42  cases\n",
      "Change is USA confirmed COVID-19 cases FROM 3/13/20 TO 3/14/20(End of day) is 548 cases OR 25.15% in this period.  \n",
      "This is 10.45 Times the Average count in daily changes. \n",
      "The current Average PERCENT(%) change from day to day is 20.73% This means it's Above or Below (if negative) the avarage daily % change by 20.73%\n",
      "R-naught value as of end-of-day 3/14/20 IS 1.062\n",
      "The average R-naught from the past 20 days is 1.5448\n"
     ]
    }
   ],
   "source": [
    "## ASSUMPTION:\n",
    "##    1) In early stages of contagion, there is NO limiting factor for the spreading of virus\n",
    "##    2) Uninficted Population is very close to total population\n",
    "##    3) Assume Free movement (No lockdowns) of individuals in and out of areas affected by virus\n",
    "##\n",
    "\n",
    "## Find Last day's total cases\n",
    "TotalCasesToDate = us_df_cumulative['Actual USA COVID-19 Cases'][-1:][0]\n",
    "print(\"Total cases as of \" +str(us_df_cumulative.index[-1:][0]) + \"(End of day) is \"+str(TotalCasesToDate),\n",
    "      'cases' )\n",
    "\n",
    "## Create a new Series that calculates the difference from day to day\n",
    "ChangeFromDay2Next = us_df_cumulative['Actual USA COVID-19 Cases'].diff(1)\n",
    "\n",
    "ChangeFromDay2NextPercent = us_df_cumulative['Actual USA COVID-19 Cases'].pct_change(1)\n",
    "\n",
    "## Find the Average change from day to day\n",
    "AverageChangeFromDay2Next = ChangeFromDay2Next.mean()\n",
    "print(\"Average case count change from one day to next = \", np.round(AverageChangeFromDay2Next,2),' cases')\n",
    "\n",
    "## Create a series of R0 by calculating the ratio of one day to the day before\n",
    "r0 = [] # Will record the ratio day to day, start from day 1 to last day\n",
    "for day in range(1,len(ChangeFromDay2Next)):\n",
    "    if(ChangeFromDay2Next[day-1:][0] == 0): # Avoid dividing by zero\n",
    "        r0.append(0)\n",
    "    else:\n",
    "        r0.append(ChangeFromDay2Next[day:][0]/ChangeFromDay2Next[day-1:][0] )  \n",
    "\n",
    "## Look back 20 days only. This is the most relevant data        \n",
    "GoBackDays = 20\n",
    "dict0 = {'Date' : us_df_cumulative.index[-GoBackDays:].values, 'R-Naught' : r0[-GoBackDays:]}\n",
    "R_Naught= pd.DataFrame(dict0)    \n",
    "R_Naught = R_Naught.set_index('Date')\n",
    "\n",
    "#print('ChangeFromDay2Next' , ChangeFromDay2Next[-1:][0])\n",
    "DailyDelta = ChangeFromDay2Next[-1:][0]\n",
    "\n",
    "#print(us_df_cumulative['Actual USA COVID-19 Cases'][-2:][0])\n",
    "DailyDeltaPercent = 100 * DailyDelta /us_df_cumulative['Actual USA COVID-19 Cases'][-2:][0]\n",
    "\n",
    "print(\"Change is USA confirmed COVID-19 cases FROM\",\n",
    "      str(us_df_cumulative.index[-2:][0]), \"TO\", \n",
    "      str(us_df_cumulative.index[-1:][0])+ \"(End of day) is \" + str(int(DailyDelta)),'cases',\n",
    "      \"OR \" +str(np.round(DailyDeltaPercent,2)) + '% in this period. ', '\\nThis is', \n",
    "      np.round((DailyDelta/AverageChangeFromDay2Next),2) ,\n",
    "      'Times the Average count in daily changes. \\nThe current Average PERCENT(%) change from day to day is' , \n",
    "      str(np.round(100*ChangeFromDay2NextPercent.mean(),2) )+'%', \n",
    "      \"This means it's Above or Below (if negative) the avarage daily % change by \"+ str(np.round(100*ChangeFromDay2NextPercent.mean(),2) )+'%')\n",
    "print(\"R-naught value as of end-of-day\",str(us_df_cumulative.index[-1:][0]), 'IS', \n",
    "      np.round(R_Naught['R-Naught'][-1:][0],4) )\n",
    "print('The average R-naught from the past',GoBackDays,'days is', np.round( R_Naught['R-Naught'].mean(),4))"
   ]
  },
  {
   "cell_type": "markdown",
   "metadata": {},
   "source": [
    "## Plot R-naught as a Time Series"
   ]
  },
  {
   "cell_type": "code",
   "execution_count": 6,
   "metadata": {},
   "outputs": [
    {
     "data": {
      "text/plain": [
       "<matplotlib.axes._subplots.AxesSubplot at 0x7f0560d8e990>"
      ]
     },
     "execution_count": 6,
     "metadata": {},
     "output_type": "execute_result"
    },
    {
     "data": {
      "image/png": "[encoded data removed]",
      "text/plain": [
       "<Figure size 864x576 with 1 Axes>"
      ]
     },
     "metadata": {
      "needs_background": "light"
     },
     "output_type": "display_data"
    }
   ],
   "source": [
    "R_Naught.plot(kind='bar',figsize=(12,8),grid=True)"
   ]
  },
  {
   "cell_type": "markdown",
   "metadata": {},
   "source": [
    "### It's plausible to assume that US officials hit the panic button at the end of 3/10/2020 when R-naught spiked to near 6. R-naught should not be allowed to exceed 1.0 for the spread to die down"
   ]
  },
  {
   "cell_type": "markdown",
   "metadata": {},
   "source": []
  }
 ],
 "metadata": {
  "kernelspec": {
   "display_name": "Python 3",
   "language": "python",
   "name": "python3"
  },
  "language_info": {
   "codemirror_mode": {
    "name": "ipython",
    "version": 3
   },
   "file_extension": ".py",
   "mimetype": "text/x-python",
   "name": "python",
   "nbconvert_exporter": "python",
   "pygments_lexer": "ipython3",
   "version": "3.7.4"
  }
 },
 "nbformat": 4,
 "nbformat_minor": 4
}
